{
 "cells": [
  {
   "cell_type": "markdown",
   "metadata": {},
   "source": [
    "**You may need to install [OpenCV](https://pypi.python.org/pypi/opencv-python) and [scikit-video](http://www.scikit-video.org/stable/).**"
   ]
  },
  {
   "cell_type": "code",
   "execution_count": 1,
   "metadata": {
    "collapsed": true
   },
   "outputs": [
    {
     "name": "stderr",
     "output_type": "stream",
     "text": [
      "Using TensorFlow backend.\n"
     ]
    }
   ],
   "source": [
    "import keras\n",
    "import numpy as np\n",
    "import io\n",
    "import base64\n",
    "from IPython.display import HTML\n",
    "import skvideo.io\n",
    "import cv2\n",
    "import json\n",
    "\n",
    "from keras.models import Sequential,model_from_json\n",
    "from keras.layers.core import Dense\n",
    "from keras.optimizers import sgd, adam\n",
    "from keras.layers import Conv2D, MaxPooling2D, Activation, AveragePooling2D,Reshape,BatchNormalization"
   ]
  },
  {
   "cell_type": "markdown",
   "metadata": {},
   "source": [
    "# MiniProject #3: Deep Reinforcement Learning"
   ]
  },
  {
   "cell_type": "markdown",
   "metadata": {},
   "source": [
    "__Notations__: $E_p$ is the expectation under probability $p$. Please justify each of your answer and widely comment your code."
   ]
  },
  {
   "cell_type": "markdown",
   "metadata": {},
   "source": [
    "# Context"
   ]
  },
  {
   "cell_type": "markdown",
   "metadata": {},
   "source": [
    "In a reinforcement learning algorithm, we modelize each step $t$ as an action $a_t$ obtained from a state $s_t$, i.e. $\\{(a_{t},s_{t})_{t\\leq T}\\}$ having the Markov property. We consider a discount factor $\\gamma \\in [0,1]$ that ensures convergence. The goal is to find among all the policies $\\pi$, one that maximizes the expected reward:\n",
    "\n",
    "\\begin{equation*}\n",
    "R(\\pi)=\\sum_{t\\leq T}E_{p^{\\pi}}[\\gamma^t r(s_{t},a_{t})] \\> ,\n",
    "\\end{equation*}\n",
    "\n",
    "where: \n",
    "\\begin{equation*}p^{\\pi}(a_{0},a_{1},s_{1},...,a_{T},s_{T})=p(a_{0})\\prod_{t=1}^{T}\\pi(a_{t}|s_{t})p(s_{t+1}|s_{t},a_{t}) \\> .\n",
    "\\end{equation*}\n",
    "\n",
    "We note the $Q$-function:\n",
    "\n",
    "\\begin{equation*}Q^\\pi(s,a)=E_{p^{\\pi}}[\\sum_{t\\leq T}\\gamma^{t}r(s_{t},a_{t})|s_{0}=s,a_{0}=a] \\> .\n",
    "\\end{equation*}\n",
    "\n",
    "Thus, the optimal Q function is:\n",
    "\\begin{equation*}\n",
    "Q^*(s,a)=\\max_{\\pi}Q^\\pi(s,a) \\> .\n",
    "\\end{equation*}\n",
    "\n",
    "In this project, we will apply the deep reinforcement learning techniques to a simple game: an agent will have to learn from scratch a policy that will permit it maximizing a reward."
   ]
  },
  {
   "cell_type": "markdown",
   "metadata": {},
   "source": [
    "## The environment, the agent and the game"
   ]
  },
  {
   "cell_type": "markdown",
   "metadata": {},
   "source": [
    "### The environment"
   ]
  },
  {
   "cell_type": "markdown",
   "metadata": {},
   "source": [
    "```Environment``` is an abstract class that represents the states, rewards, and actions to obtain the new state."
   ]
  },
  {
   "cell_type": "code",
   "execution_count": 2,
   "metadata": {
    "collapsed": true
   },
   "outputs": [],
   "source": [
    "class Environment(object):\n",
    "    def __init__(self):\n",
    "        pass\n",
    "\n",
    "    def act(self, act):\n",
    "        \"\"\"\n",
    "        One can act on the environment and obtain its reaction:\n",
    "        - the new state\n",
    "        - the reward of the new state\n",
    "        - should we continue the game?\n",
    "\n",
    "        :return: state, reward, game_over\n",
    "        \"\"\"\n",
    "        pass\n",
    "\n",
    "\n",
    "    def reset(self):\n",
    "        \"\"\"\n",
    "        Reinitialize the environment to a random state and returns\n",
    "        the original state\n",
    "\n",
    "        :return: state\n",
    "        \"\"\"\n",
    "        pass\n",
    "    \n",
    "    def draw(self):\n",
    "        \"\"\"\n",
    "        Visualize in the console or graphically the current state\n",
    "        \"\"\"\n",
    "        pass"
   ]
  },
  {
   "cell_type": "markdown",
   "metadata": {},
   "source": [
    "The method ```act``` allows to act on the environment at a given state $s_t$ (stored internally), via action $a_t$. The method will return the new state $s_{t+1}$, the reward $r(s_{t},a_{t})$ and determines if $t\\leq T$ (*game_over*).\n",
    "\n",
    "The method ```reset``` simply reinitializes the environment to a random state $s_0$.\n",
    "\n",
    "The method ```draw``` displays the current state $s_t$ (this is useful to check the behavior of the Agent).\n",
    "\n",
    "We modelize $s_t$ as a tensor, while $a_t$ is an integer."
   ]
  },
  {
   "cell_type": "markdown",
   "metadata": {},
   "source": [
    "### The Agent"
   ]
  },
  {
   "cell_type": "markdown",
   "metadata": {},
   "source": [
    "The goal of the ```Agent``` is to interact with the ```Environment``` by proposing actions $a_t$ obtained from a given state $s_t$ to attempt to maximize its __reward__ $r(s_t,a_t)$. We propose the following abstract class:"
   ]
  },
  {
   "cell_type": "code",
   "execution_count": 3,
   "metadata": {
    "collapsed": true
   },
   "outputs": [],
   "source": [
    "class Agent(object):\n",
    "    def __init__(self, epsilon=0.1, n_action=4):\n",
    "        self.epsilon = epsilon\n",
    "        self.n_action = n_action\n",
    "    \n",
    "    def set_epsilon(self,e):\n",
    "        self.epsilon = e\n",
    "\n",
    "    def act(self, s, train=True):\n",
    "        \"\"\" This function should return the next action to do:\n",
    "        an integer between 0 and 4 (not included) with a random exploration of epsilon\"\"\"\n",
    "        if train:\n",
    "            if np.random.rand() <= self.epsilon:\n",
    "                a = np.random.randint(0, self.n_action, size=1)[0]\n",
    "            else:\n",
    "                a = self.learned_act(s)\n",
    "        else: # in some cases, this can improve the performance.. remove it if poor performances\n",
    "            a = self.learned_act(s)\n",
    "\n",
    "        return a\n",
    "\n",
    "    def learned_act(self,s):\n",
    "        \"\"\" Act via the policy of the agent, from a given state s\n",
    "        it proposes an action a\"\"\"\n",
    "        pass\n",
    "\n",
    "    def reinforce(self, s, n_s, a, r, game_over_):\n",
    "        \"\"\" This function is the core of the learning algorithm. \n",
    "        It takes as an input the current state s_, the next state n_s_\n",
    "        the action a_ used to move from s_ to n_s_ and the reward r_.\n",
    "        \n",
    "        Its goal is to learn a policy.\n",
    "        \"\"\"\n",
    "        pass\n",
    "\n",
    "    def save(self):\n",
    "        \"\"\" This function returns basic stats if applicable: the\n",
    "        loss and/or the model\"\"\"\n",
    "        pass\n",
    "\n",
    "    def load(self):\n",
    "        \"\"\" This function allows to restore a model\"\"\"\n",
    "        pass"
   ]
  },
  {
   "cell_type": "markdown",
   "metadata": {},
   "source": [
    "***\n",
    "__Question 1__:\n",
    "Explain the function act. Why is ```epsilon``` essential?"
   ]
  },
  {
   "cell_type": "markdown",
   "metadata": {},
   "source": [
    "This function takes as an input a state $s$ and a boolean $to$ $train$. It outputs an action $a$, an integer between $0$ and $4$, not included.\n",
    "\n",
    "If we are not in training mode, the Agent will just act accordingly to the state $a$ via the ```learned_act``` function, learned during its training.\n",
    "\n",
    "If we are in training mode, we may want two different behaviours :\n",
    "- Acting according the current learned policy, via the ```learned_act``` function, observe the results , and we may want the Agent to correct its policy. __Exploitation__\n",
    "- Trying another action randomly and evaluate it. The idea is for the Agent to \"explore\" and thus having more information on the environment (which can be useful for the training). __Exploration__\n",
    "\n",
    "The second choice will be executed with a probability of $\\epsilon$."
   ]
  },
  {
   "cell_type": "markdown",
   "metadata": {},
   "source": [
    "***\n",
    "### The Game"
   ]
  },
  {
   "cell_type": "markdown",
   "metadata": {},
   "source": [
    "The ```Agent``` and the ```Environment``` work in an interlaced way as in the following (take some time to understand this code as it is the core of the project)\n",
    "\n",
    "```python\n",
    "\n",
    "epoch = 300\n",
    "env = Environment()\n",
    "agent = Agent()\n",
    "\n",
    "\n",
    "# Number of won games\n",
    "score = 0\n",
    "loss = 0\n",
    "\n",
    "\n",
    "for e in range(epoch):\n",
    "    # At each epoch, we restart to a fresh game and get the initial state\n",
    "    state = env.reset()\n",
    "    # This assumes that the games will end\n",
    "    game_over = False\n",
    "\n",
    "    win = 0\n",
    "    lose = 0\n",
    "    \n",
    "    while not game_over:\n",
    "        # The agent performs an action\n",
    "        action = agent.act(state)\n",
    "\n",
    "        # Apply an action to the environment, get the next state, the reward\n",
    "        # and if the games end\n",
    "        prev_state = state\n",
    "        state, reward, game_over = env.act(action)\n",
    "\n",
    "        # Update the counters\n",
    "        if reward > 0:\n",
    "            win = win + reward\n",
    "        if reward < 0:\n",
    "            lose = lose -reward\n",
    "\n",
    "        # Apply the reinforcement strategy\n",
    "        loss = agent.reinforce(prev_state, state,  action, reward, game_over)\n",
    "\n",
    "    # Save as a mp4\n",
    "    if e % 10 == 0:\n",
    "        env.draw(e)\n",
    "\n",
    "    # Update stats\n",
    "    score += win-lose\n",
    "\n",
    "    print(\"Epoch {:03d}/{:03d} | Loss {:.4f} | Win/lose count {}/{} ({})\"\n",
    "          .format(e, epoch, loss, win, lose, win-lose))\n",
    "    agent.save()\n",
    "```"
   ]
  },
  {
   "cell_type": "markdown",
   "metadata": {},
   "source": [
    "# The game, *eat cheese*"
   ]
  },
  {
   "cell_type": "markdown",
   "metadata": {},
   "source": [
    "A rat runs on an island and tries to eat as much as possible. The island is subdivided into $N\\times N$ cells, in which there are cheese (+0.5) and poisonous cells (-1). The rat has a visibility of 2 cells (thus it can see $5^2$ cells). The rat is given a time $T$ to accumulate as much food as possible. It can perform 4 actions: going up, down, left, right. \n",
    "\n",
    "The goal is to code an agent to solve this task that will learn by trial and error. We propose the following environment:"
   ]
  },
  {
   "cell_type": "code",
   "execution_count": 4,
   "metadata": {
    "collapsed": true
   },
   "outputs": [],
   "source": [
    "class Environment(object):\n",
    "    def __init__(self, grid_size=10, max_time=500, temperature=0.1):\n",
    "        grid_size = grid_size+4\n",
    "        self.grid_size = grid_size\n",
    "        self.max_time = max_time\n",
    "        self.temperature = temperature\n",
    "\n",
    "        #board on which one plays\n",
    "        self.board = np.zeros((grid_size,grid_size))\n",
    "        self.position = np.zeros((grid_size,grid_size))\n",
    "\n",
    "        # coordinate of the cat\n",
    "        self.x = 0\n",
    "        self.y = 1\n",
    "\n",
    "        # self time\n",
    "        self.t = 0\n",
    "\n",
    "        self.scale=16\n",
    "\n",
    "        self.to_draw = np.zeros((max_time+2, grid_size*self.scale, grid_size*self.scale, 3))\n",
    "\n",
    "\n",
    "    def draw(self,e):\n",
    "        skvideo.io.vwrite(str(e) + '.mp4', self.to_draw)\n",
    "\n",
    "    def get_frame(self,t):\n",
    "        b = np.zeros((self.grid_size,self.grid_size,3))+128\n",
    "        b[self.board>0,0] = 256\n",
    "        b[self.board < 0, 2] = 256\n",
    "        b[self.x,self.y,:]=256\n",
    "        b[-2:,:,:]=0\n",
    "        b[:,-2:,:]=0\n",
    "        b[:2,:,:]=0\n",
    "        b[:,:2,:]=0\n",
    "        \n",
    "        b =  cv2.resize(b, None, fx=self.scale, fy=self.scale, interpolation=cv2.INTER_NEAREST)\n",
    "\n",
    "        self.to_draw[t,:,:,:]=b\n",
    "\n",
    "\n",
    "    def act(self, action):\n",
    "        \"\"\"This function returns the new state, reward and decides if the\n",
    "        game ends.\"\"\"\n",
    "\n",
    "        self.get_frame(int(self.t))\n",
    "\n",
    "        self.position = np.zeros((self.grid_size, self.grid_size))\n",
    "\n",
    "        self.position[0:2,:]= -1\n",
    "        self.position[:,0:2] = -1\n",
    "        self.position[-2:, :] = -1\n",
    "        self.position[-2:, :] = -1\n",
    "\n",
    "        self.position[self.x, self.y] = 1\n",
    "        if action == 0:\n",
    "            if self.x == self.grid_size-3:\n",
    "                self.x = self.x-1\n",
    "            else:\n",
    "                self.x = self.x + 1\n",
    "        elif action == 1:\n",
    "            if self.x == 2:\n",
    "                self.x = self.x+1\n",
    "            else:\n",
    "                self.x = self.x-1\n",
    "        elif action == 2:\n",
    "            if self.y == self.grid_size - 3:\n",
    "                self.y = self.y - 1\n",
    "            else:\n",
    "                self.y = self.y + 1\n",
    "        elif action == 3:\n",
    "            if self.y == 2:\n",
    "                self.y = self.y + 1\n",
    "            else:\n",
    "                self.y = self.y - 1\n",
    "        else:\n",
    "            RuntimeError('Error: action not recognized')\n",
    "\n",
    "        self.t = self.t + 1\n",
    "        reward = self.board[self.x, self.y]\n",
    "        self.board[self.x, self.y] = 0\n",
    "        game_over = self.t > self.max_time\n",
    "        state = np.concatenate((self.board.reshape(self.grid_size, self.grid_size,1),\n",
    "                        self.position.reshape(self.grid_size, self.grid_size,1)),axis=2)\n",
    "        state = state[self.x-2:self.x+3,self.y-2:self.y+3,:]\n",
    "\n",
    "        return state, reward, game_over\n",
    "\n",
    "    def reset(self):\n",
    "        \"\"\"This function resets the game and returns the initial state\"\"\"\n",
    "\n",
    "        self.x = np.random.randint(3, self.grid_size-3, size=1)[0]\n",
    "        self.y = np.random.randint(3, self.grid_size-3, size=1)[0]\n",
    "\n",
    "\n",
    "        bonus = 0.5*np.random.binomial(1,self.temperature,size=self.grid_size**2)\n",
    "        bonus = bonus.reshape(self.grid_size,self.grid_size)\n",
    "\n",
    "        malus = -1.0*np.random.binomial(1,self.temperature,size=self.grid_size**2)\n",
    "        malus = malus.reshape(self.grid_size, self.grid_size)\n",
    "\n",
    "        self.to_draw = np.zeros((self.max_time+2, self.grid_size*self.scale, self.grid_size*self.scale, 3))\n",
    "\n",
    "\n",
    "        malus[bonus>0]=0\n",
    "\n",
    "        self.board = bonus + malus\n",
    "\n",
    "        self.position = np.zeros((self.grid_size, self.grid_size))\n",
    "        self.position[0:2,:]= -1\n",
    "        self.position[:,0:2] = -1\n",
    "        self.position[-2:, :] = -1\n",
    "        self.position[-2:, :] = -1\n",
    "        self.board[self.x,self.y] = 0\n",
    "        self.t = 0\n",
    "\n",
    "        state = np.concatenate((\n",
    "                               self.board.reshape(self.grid_size, self.grid_size,1),\n",
    "                        self.position.reshape(self.grid_size, self.grid_size,1)),axis=2)\n",
    "\n",
    "        state = state[self.x - 2:self.x + 3, self.y - 2:self.y + 3, :]\n",
    "        return state"
   ]
  },
  {
   "cell_type": "markdown",
   "metadata": {},
   "source": [
    "The following elements are important because they correspond to the hyper parameters for this project:"
   ]
  },
  {
   "cell_type": "code",
   "execution_count": 5,
   "metadata": {},
   "outputs": [],
   "source": [
    "# parameters\n",
    "size = 13\n",
    "T=200\n",
    "temperature=0.3\n",
    "epochs_train=10# set small when debugging\n",
    "epochs_test=3 # set small when debugging\n",
    "\n",
    "# display videos\n",
    "def display_videos(name):\n",
    "    video = io.open(name, 'r+b').read()\n",
    "    encoded = base64.b64encode(video)\n",
    "    return '''<video alt=\"test\" controls>\n",
    "                <source src=\"data:video/mp4;base64,{0}\" type=\"video/mp4\" />\n",
    "             </video>'''.format(encoded.decode('ascii'))"
   ]
  },
  {
   "cell_type": "markdown",
   "metadata": {},
   "source": [
    "__Question 2__ Explain the use of the arrays ```position``` and ```board```."
   ]
  },
  {
   "cell_type": "markdown",
   "metadata": {},
   "source": [
    "- ```board``` is an array storing the cheese and the poisoned food positions. For each cell of the grid, a cheese is encoded as $0.5$, while the poisoned food is encoded as $-1$.\n",
    "When the rat arrives at a position $(x, y)$, the ```board[x, y]``` is set to zero, and we add its previous value to the reward.\n",
    "\n",
    "- ```positions``` stores the position of the agent on the grid (as a $1$) and the borders of the grid as a $-1$.\n",
    "\n",
    "These two arrays are used for computing the state of the agent (we provide the agent these two array within a $5\\times5$ grid around it), and for displaying purposes."
   ]
  },
  {
   "cell_type": "markdown",
   "metadata": {},
   "source": [
    "## Random Agent"
   ]
  },
  {
   "cell_type": "markdown",
   "metadata": {},
   "source": [
    "***\n",
    "__Question 3__ Implement a random Agent (only ```learned_act``` needs to be implemented):"
   ]
  },
  {
   "cell_type": "code",
   "execution_count": 6,
   "metadata": {
    "collapsed": true
   },
   "outputs": [],
   "source": [
    "class RandomAgent(Agent):\n",
    "    def __init__(self):\n",
    "        super(RandomAgent, self).__init__()\n",
    "        pass\n",
    "\n",
    "    def learned_act(self, s):\n",
    "        a = np.random.randint(0, 4)\n",
    "        return a"
   ]
  },
  {
   "cell_type": "markdown",
   "metadata": {},
   "source": [
    "***\n",
    "***\n",
    "__Question 4__ Visualize the game moves. You need to fill in the following function for the evaluation:"
   ]
  },
  {
   "cell_type": "code",
   "execution_count": 7,
   "metadata": {
    "collapsed": true
   },
   "outputs": [],
   "source": [
    "def test(agent,env,epochs,prefix=''):\n",
    "    # Number of won games\n",
    "    score = 0\n",
    "    for e in range(epochs):\n",
    "        # At each epoch, we restart to a fresh game and get the initial state\n",
    "        state = env.reset()\n",
    "        # This assumes that the games will end\n",
    "        game_over = False\n",
    "\n",
    "        win = 0\n",
    "        lose = 0\n",
    "\n",
    "        while not game_over:\n",
    "            # The agent performs an action\n",
    "            action = agent.act(state)\n",
    "\n",
    "            # Apply an action to the environment, get the next state, the reward\n",
    "            # and if the games end\n",
    "            prev_state = state\n",
    "            state, reward, game_over = env.act(action)\n",
    "\n",
    "            # Update the counters\n",
    "            if reward > 0:\n",
    "                win = win + reward\n",
    "            if reward < 0:\n",
    "                lose = lose -reward\n",
    "\n",
    "            # Apply the reinforcement strategy\n",
    "            loss = agent.reinforce(prev_state, state,  action, reward, game_over)\n",
    "        # Save as a mp4\n",
    "        env.draw(prefix+str(e))\n",
    "\n",
    "        # Update stats\n",
    "        score = score + win-lose\n",
    "\n",
    "        print(\"Win/lose count {}/{}. Average score ({})\"\n",
    "              .format(win, lose, score/(1+e)))\n",
    "    print('Final score: '+str(score/epochs))"
   ]
  },
  {
   "cell_type": "code",
   "execution_count": 8,
   "metadata": {},
   "outputs": [
    {
     "name": "stdout",
     "output_type": "stream",
     "text": [
      "Win/lose count 7.0/15.0. Average score (-8.0)\n",
      "Win/lose count 10.0/14.0. Average score (-6.0)\n",
      "Win/lose count 11.0/8.0. Average score (-3.0)\n",
      "Final score: -3.0\n"
     ]
    },
    {
     "data": {
      "text/html": [
       "<video alt=\"test\" controls>\n",
       "                <source src=\"data:video/mp4;base64,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\" type=\"video/mp4\" />\n",
       "             </video>"
      ],
      "text/plain": [
       "<IPython.core.display.HTML object>"
      ]
     },
     "execution_count": 8,
     "metadata": {},
     "output_type": "execute_result"
    }
   ],
   "source": [
    "# Initialize the game\n",
    "env = Environment(grid_size=size, max_time=T,temperature=temperature)\n",
    "\n",
    "# Initialize the agent!\n",
    "agent = RandomAgent()\n",
    "\n",
    "test(agent,env,epochs_test,prefix='random')\n",
    "HTML(display_videos('random0.mp4'))"
   ]
  },
  {
   "cell_type": "markdown",
   "metadata": {},
   "source": [
    "***\n",
    "## DQN"
   ]
  },
  {
   "cell_type": "markdown",
   "metadata": {},
   "source": [
    "Let us assume here that $T=\\infty$.\n",
    "\n",
    "***\n",
    "__Question 5__ Let $\\pi$ be a policy, show that:\n",
    "\n",
    "\\begin{equation*}\n",
    "Q^{\\pi}(s,a)=E_{(s',a')\\sim p(.|s,a)}[r(s,a)+\\gamma Q^{\\pi}(s',a')]\n",
    "\\end{equation*}\n",
    "\n",
    "Then, show that for the optimal policy $\\pi^*$ (we assume its existence), the following holds: \n",
    "\n",
    "\\begin{equation*}\n",
    "Q^{*}(s,a)=E_{s'\\sim \\pi^*(.|s,a)}[r(s,a)+\\gamma\\max_{a'}Q^{*}(s',a')].\n",
    "\\end{equation*}\n",
    "Finally, deduce that a plausible objective is:\n",
    "\n",
    "\\begin{equation*}\n",
    "\\mathcal{L}(\\theta)=E_{s' \\sim \\pi^*(.|s,a)}\\Vert r+\\gamma\\max_{a'}Q(s',a',\\theta)-Q(s,a,\\theta)\\Vert^{2}.\n",
    "\\end{equation*}\n",
    "\n",
    "\n"
   ]
  },
  {
   "cell_type": "markdown",
   "metadata": {},
   "source": [
    "- \\begin{align}\n",
    "Q^\\pi(s, a) &= E_\\pi [R_t | s_t = s, a_t = a] \\\\ \n",
    "&= E_\\pi [\\sum_{k=0}^{\\infty} \\gamma^kr^{t+k+1}| s_t = s, a_t = a]\\\\\n",
    "&= E_\\pi [r(s, a) + \\sum_{k=1}^{\\infty} \\gamma^kr_{t+k+1}| s_t = s, a_t = a]\\\\\n",
    "&= E_\\pi [r(s, a) + \\gamma\\sum_{k=0}^{\\infty} \\gamma^kr_{t+k+2}| s_t = s, a_t = a]\\\\\n",
    "&= r(s, a) + \\gamma E_\\pi [R_{t+1}| s_t = s, a_t = a]\\\\\n",
    "&= r(s, a) + \\gamma \\sum_{(s', a')}\\left( E_\\pi [R_{t+1}| s_{t+1} = s', a_{t+1} = a']\\times p_\\pi(s_{t+1} = s', a_{t+1} = a' | s_t = s, a_t = a) \\right)\\\\\n",
    "&= r(s, a) + \\gamma E_{(s',a')\\sim p(.|s,a)}\\left[E_\\pi [R_{t+1}| s_{t+1} = s', a_{t+1} = a']\\right]\\\\\n",
    "&= E_{(s',a')\\sim p(.|s,a)}[r(s,a)+\\gamma Q^{\\pi}(s',a')]\n",
    "\\end{align}\n",
    "- $\\pi^*$ is defined as $\\forall s \\in S, \\pi^*(s) =\\arg \\max_a Q^*(s, a)$. Therefore :\n",
    "\\begin{align}\n",
    "Q^{*}(s,a) &=Q^{\\pi *}(s,a) = E_{(s',a')\\sim p^*(.|s,a)}[r(s,a)+\\gamma Q^{\\pi*}(s',a')]\\\\\n",
    "&= r(s,a)+\\gamma E_{(s',a')\\sim p^*(.|s,a)}[Q^{\\pi*}(s',a')]\\\\\n",
    "&= r(s,a)+\\gamma \\sum_{s'} Q^{\\pi*}(s',\\pi^*(s)) p(s_{t+1} = s' | s_t = s, a_t = \\pi^*(s))\\\\\n",
    "&= r(s,a)+\\gamma \\sum_{s'} \\max_{a'}Q^{*}(s',a') p(s_{t+1} = s' | s_t = s, a_t = \\pi^*(s))\\\\\n",
    "&= r(s,a)+\\gamma E_{s'\\sim \\pi^*(.|s,a)}[\\max_{a'}Q^{*}(s',a')]\\\\\n",
    "&= E_{s'\\sim \\pi^*(.|s,a)}[r(s,a)+\\gamma\\max_{a'}Q^{*}(s',a')]\\\\\n",
    "\\end{align}\n",
    "- We want our neural network to follow the optimal policy $\\pi^*$ for all given states. By unicity of $\\pi^*$, we also have unicity of $Q^*$ as the unique fixed point of the function $f(Q) = E_{s'\\sim \\pi^*(.|s,a)}[r(s,a)+\\gamma\\max_{a'}Q(s',a')]$. Thus, having a loss of the form : $\\hat{\\mathcal{L}}(\\theta) = d(Q_{\\theta}; f(Q_{\\theta}))$, where $d$ is a metric to minimize, should provide the result. $\\\\ \\mathcal{L}(\\theta)$ follows this pattern and is therefore an acceptable loss function.\n"
   ]
  },
  {
   "cell_type": "markdown",
   "metadata": {},
   "source": [
    "***\n",
    "The DQN-learning algorithm relies on these derivations to train the parameters $\\theta$ of a Deep Neural Network:\n",
    "\n",
    "1. At the state $s_t$, select the action $a_t$ with best reward using $Q_t$ and store the results;\n",
    "\n",
    "2. Obtain the new state $s_{t+1}$ from the environment $p$;\n",
    "\n",
    "3. Store $(s_t,a_t,s_{t+1})$;\n",
    "\n",
    "4. Obtain $Q_{t+1}$ by minimizing  $\\mathcal{L}$ from a recovered batch from the previously stored results.\n",
    "\n",
    "***\n",
    "__Question 6__ Implement the class ```Memory``` that stores moves (in a replay buffer) via ```remember``` and provides a ```random_access``` to these. Specify a maximum memory size to avoid side effects. You can for example use a ```list()``` and set by default ```max_memory=100```."
   ]
  },
  {
   "cell_type": "code",
   "execution_count": 9,
   "metadata": {
    "collapsed": true
   },
   "outputs": [],
   "source": [
    "class Memory(object):\n",
    "    def __init__(self, max_memory=100):\n",
    "        self.max_memory = max_memory\n",
    "        self.memory = list()\n",
    "\n",
    "    def remember(self, m):\n",
    "        if len(self.memory) == self.max_memory:\n",
    "            self.memory = self.memory[1:] #if the memory is full we drop its oldest element\n",
    "        self.memory.append(m)\n",
    "\n",
    "    def random_access(self):\n",
    "        i = np.random.randint(0, len(self.memory))\n",
    "        return self.memory[i]"
   ]
  },
  {
   "cell_type": "markdown",
   "metadata": {},
   "source": [
    "***\n",
    "The pipeline we will use for training is given below:"
   ]
  },
  {
   "cell_type": "code",
   "execution_count": 10,
   "metadata": {
    "collapsed": true
   },
   "outputs": [],
   "source": [
    "def train(agent,env,epoch,prefix=''):\n",
    "    # Number of won games\n",
    "    score = 0\n",
    "    loss = 0\n",
    "\n",
    "    for e in range(epoch):\n",
    "        # At each epoch, we restart to a fresh game and get the initial state\n",
    "        state = env.reset()\n",
    "        # This assumes that the games will terminate\n",
    "        game_over = False\n",
    "\n",
    "        win = 0\n",
    "        lose = 0\n",
    "\n",
    "        while not game_over:\n",
    "            # The agent performs an action\n",
    "            action = agent.act(state)\n",
    "\n",
    "            # Apply an action to the environment, get the next state, the reward\n",
    "            # and if the games end\n",
    "            prev_state = state\n",
    "            state, reward, game_over = env.act(action)\n",
    "\n",
    "            # Update the counters\n",
    "            if reward > 0:\n",
    "                win = win + reward\n",
    "            if reward < 0:\n",
    "                lose = lose -reward\n",
    "\n",
    "            # Apply the reinforcement strategy\n",
    "            loss = agent.reinforce(prev_state, state,  action, reward, game_over)\n",
    "\n",
    "        # Save as a mp4\n",
    "        if e % 10 == 0:\n",
    "            env.draw(prefix+str(e))\n",
    "\n",
    "        # Update stats\n",
    "        score += win-lose\n",
    "\n",
    "        print(\"Epoch {:03d}/{:03d} | Loss {:.4f} | Win/lose count {}/{} ({})\"\n",
    "              .format(e, epoch, loss, win, lose, win-lose))\n",
    "        agent.save(name_weights=prefix+'model.h5',name_model=prefix+'model.json')"
   ]
  },
  {
   "cell_type": "markdown",
   "metadata": {},
   "source": [
    "***\n",
    "__Question 7__ Implement the DQN training algorithm using a cascade of fully connected layers. You can use different learning rate, batch size or memory size parameters. In particular, the loss might oscillate while the player will start to win the games. You have to find a good criterium."
   ]
  },
  {
   "cell_type": "code",
   "execution_count": 77,
   "metadata": {
    "collapsed": true
   },
   "outputs": [],
   "source": [
    "class DQN(Agent):\n",
    "    def __init__(self, grid_size,  epsilon = 0.1, memory_size=100, batch_size = 16, n_state=2):\n",
    "        super(DQN, self).__init__(epsilon = epsilon)\n",
    "\n",
    "        # Discount for Q learning\n",
    "        self.discount = 0.99\n",
    "        \n",
    "        self.grid_size = grid_size\n",
    "        \n",
    "        # number of state\n",
    "        self.n_state = n_state\n",
    "\n",
    "        # Memory\n",
    "        self.memory = Memory(memory_size)\n",
    "        \n",
    "        # Batch size when learning\n",
    "        self.batch_size = batch_size\n",
    "        \n",
    "        self.epsilon = epsilon\n",
    "        \n",
    "        \n",
    "    def learned_act(self, s):\n",
    "        #print(self.model.predict(s[None]))\n",
    "        #print(np.argmax(self.model.predict(s[None])))\n",
    "        return np.argmax(self.model.predict(s[None]))\n",
    "\n",
    "    def reinforce(self, s_, n_s_, a_, r_, game_over_):\n",
    "        # Two steps: first memorize the states, second learn from the pool\n",
    "        self.memory.remember([s_, n_s_, a_, r_, game_over_])\n",
    "        \n",
    "        input_states = np.zeros((self.batch_size, 5,5,self.n_state))\n",
    "        input_ns = np.zeros((self.batch_size, 5,5,self.n_state))\n",
    "        input_actions = np.zeros((self.batch_size, 4), dtype = bool)\n",
    "        input_rewards = np.zeros(self.batch_size)\n",
    "        input_game_over = np.zeros(self.batch_size, dtype = np.bool)\n",
    "        target_q = np.zeros((self.batch_size, 4))\n",
    "        \n",
    "        for i in range(self.batch_size): # vectorized form = faster\n",
    "            s_, n_s_, a_, r_, game_over_ = self.memory.random_access()\n",
    "            input_states[i] = s_\n",
    "            input_ns[i] = n_s_\n",
    "            input_actions[i, a_] = True\n",
    "            input_rewards[i] = r_\n",
    "            input_game_over[i] = game_over_\n",
    "        estimated_q = self.model.predict(input_states)[:, 0]\n",
    "        estimated_ns_q = self.model.predict(input_ns)\n",
    "\n",
    "        target_q[~input_actions] = estimated_q[~input_actions] #to keep the gradient constant for actions not taken by the agent\n",
    "        target_q[input_actions]= 1 + (1 - input_game_over)*self.discount * np.max(estimated_ns_q, axis = (1, 2))\n",
    "        # HINT: Clip the target to avoid exploiding gradients.. -- clipping is a bit tighter\n",
    "        target_q = np.clip(target_q, -3, 3)\n",
    "        l = self.model.train_on_batch(input_states, target_q[:, None])\n",
    "        return l\n",
    "\n",
    "    def save(self,name_weights='model.h5',name_model='model.json'):\n",
    "        self.model.save_weights(name_weights, overwrite=True)\n",
    "        with open(name_model, \"w\") as outfile:\n",
    "            json.dump(self.model.to_json(), outfile)\n",
    "            \n",
    "    def load(self,name_weights='model.h5',name_model='model.json'):\n",
    "        with open(name_model, \"r\") as jfile:\n",
    "            model = model_from_json(json.load(jfile))\n",
    "        print(model.layers)\n",
    "        model.load_weights(name_weights)\n",
    "        model.compile(\"sgd\", \"mse\")\n",
    "        self.model = model\n",
    "\n",
    "            \n",
    "class DQN_FC(DQN):\n",
    "    def __init__(self, *args, lr=0.1,**kwargs):\n",
    "        super(DQN_FC, self).__init__( *args,**kwargs)\n",
    "        \n",
    "        # NN Model\n",
    "        width = 50\n",
    "        model = Sequential([\n",
    "            Reshape((-1, width)),\n",
    "            Dense(width, input_shape=(50,), activation = \"relu\"),\n",
    "            Dense(width, activation = \"relu\"),\n",
    "            Dense(width, activation = \"relu\"),\n",
    "            Dense(4)\n",
    "        ])\n",
    "        \n",
    "        model.compile(adam(lr=lr, decay=1e-4), \"mse\")\n",
    "        self.model = model\n"
   ]
  },
  {
   "cell_type": "code",
   "execution_count": 78,
   "metadata": {
    "collapsed": true
   },
   "outputs": [
    {
     "name": "stdout",
     "output_type": "stream",
     "text": [
      "Epoch 000/051 | Loss 0.0012 | Win/lose count 4.5/8.0 (-3.5)\n",
      "Epoch 001/051 | Loss 0.0005 | Win/lose count 3.0/3.0 (0.0)\n",
      "Epoch 002/051 | Loss 0.0007 | Win/lose count 5.5/7.0 (-1.5)\n",
      "Epoch 003/051 | Loss 0.0005 | Win/lose count 5.5/11.0 (-5.5)\n",
      "Epoch 004/051 | Loss 0.0008 | Win/lose count 10.0/14.0 (-4.0)\n",
      "Epoch 005/051 | Loss 0.0005 | Win/lose count 9.5/10.0 (-0.5)\n",
      "Epoch 006/051 | Loss 0.0001 | Win/lose count 9.5/13.0 (-3.5)\n",
      "Epoch 007/051 | Loss 0.0001 | Win/lose count 14.5/24.0 (-9.5)\n",
      "Epoch 008/051 | Loss 0.0258 | Win/lose count 9.5/12.0 (-2.5)\n",
      "Epoch 009/051 | Loss 0.0024 | Win/lose count 13.5/9.0 (4.5)\n",
      "Epoch 010/051 | Loss 0.0003 | Win/lose count 7.0/11.0 (-4.0)\n",
      "Epoch 011/051 | Loss 0.0014 | Win/lose count 9.0/16.0 (-7.0)\n",
      "Epoch 012/051 | Loss 0.0007 | Win/lose count 11.5/15.0 (-3.5)\n",
      "Epoch 013/051 | Loss 0.0300 | Win/lose count 12.0/15.0 (-3.0)\n",
      "Epoch 014/051 | Loss 0.0007 | Win/lose count 9.5/19.0 (-9.5)\n",
      "Epoch 015/051 | Loss 0.0002 | Win/lose count 9.5/14.0 (-4.5)\n",
      "Epoch 016/051 | Loss 0.0002 | Win/lose count 6.0/17.0 (-11.0)\n",
      "Epoch 017/051 | Loss 0.0001 | Win/lose count 7.0/9.0 (-2.0)\n",
      "Epoch 018/051 | Loss 0.0008 | Win/lose count 12.0/20.0 (-8.0)\n",
      "Epoch 019/051 | Loss 0.0313 | Win/lose count 9.5/13.0 (-3.5)\n",
      "Epoch 020/051 | Loss 0.0002 | Win/lose count 14.0/22.0 (-8.0)\n",
      "Epoch 021/051 | Loss 0.0001 | Win/lose count 13.0/16.0 (-3.0)\n",
      "Epoch 022/051 | Loss 0.0308 | Win/lose count 13.0/19.0 (-6.0)\n",
      "Epoch 023/051 | Loss 0.0008 | Win/lose count 6.5/10.0 (-3.5)\n",
      "Epoch 024/051 | Loss 0.0003 | Win/lose count 9.0/10.0 (-1.0)\n",
      "Epoch 025/051 | Loss 0.0001 | Win/lose count 20.0/18.0 (2.0)\n",
      "Epoch 026/051 | Loss 0.0004 | Win/lose count 8.0/18.0 (-10.0)\n",
      "Epoch 027/051 | Loss 0.0004 | Win/lose count 9.0/12.0 (-3.0)\n",
      "Epoch 028/051 | Loss 0.0000 | Win/lose count 8.5/16.0 (-7.5)\n",
      "Epoch 029/051 | Loss 0.0013 | Win/lose count 11.5/10.0 (1.5)\n",
      "Epoch 030/051 | Loss 0.0005 | Win/lose count 9.0/14.0 (-5.0)\n",
      "Epoch 031/051 | Loss 0.0004 | Win/lose count 11.5/19.0 (-7.5)\n",
      "Epoch 032/051 | Loss 0.0002 | Win/lose count 12.5/22.0 (-9.5)\n",
      "Epoch 033/051 | Loss 0.0005 | Win/lose count 6.0/14.0 (-8.0)\n",
      "Epoch 034/051 | Loss 0.0306 | Win/lose count 10.0/10.0 (0.0)\n",
      "Epoch 035/051 | Loss 0.0000 | Win/lose count 10.0/14.0 (-4.0)\n",
      "Epoch 036/051 | Loss 0.0319 | Win/lose count 8.5/15.0 (-6.5)\n",
      "Epoch 037/051 | Loss 0.0000 | Win/lose count 13.5/23.0 (-9.5)\n",
      "Epoch 038/051 | Loss 0.0000 | Win/lose count 11.5/13.0 (-1.5)\n",
      "Epoch 039/051 | Loss 0.0002 | Win/lose count 12.5/22.0 (-9.5)\n",
      "Epoch 040/051 | Loss 0.0022 | Win/lose count 12.0/17.0 (-5.0)\n",
      "Epoch 041/051 | Loss 0.0004 | Win/lose count 12.0/13.0 (-1.0)\n",
      "Epoch 042/051 | Loss 0.0009 | Win/lose count 6.0/16.0 (-10.0)\n",
      "Epoch 043/051 | Loss 0.0005 | Win/lose count 13.5/24.0 (-10.5)\n",
      "Epoch 044/051 | Loss 0.0005 | Win/lose count 10.5/18.0 (-7.5)\n",
      "Epoch 045/051 | Loss 0.0002 | Win/lose count 11.0/17.0 (-6.0)\n",
      "Epoch 046/051 | Loss 0.0003 | Win/lose count 12.5/19.0 (-6.5)\n",
      "Epoch 047/051 | Loss 0.0002 | Win/lose count 12.5/16.0 (-3.5)\n",
      "Epoch 048/051 | Loss 0.0000 | Win/lose count 7.5/14.0 (-6.5)\n",
      "Epoch 049/051 | Loss 0.0001 | Win/lose count 12.5/15.0 (-2.5)\n",
      "Epoch 050/051 | Loss 0.0001 | Win/lose count 6.5/15.0 (-8.5)\n"
     ]
    }
   ],
   "source": [
    "epochs_train = 51\n",
    "T = 200\n",
    "env = Environment(grid_size=size, max_time=T, temperature=0.3)\n",
    "agent_fc = DQN_FC(size, lr=.03, epsilon = 0.3, memory_size=600, batch_size = 32)\n",
    "train(agent_fc, env, epochs_train, prefix='fc_train')"
   ]
  },
  {
   "cell_type": "code",
   "execution_count": null,
   "metadata": {
    "collapsed": true
   },
   "outputs": [],
   "source": [
    "HTML(display_videos('fc_train50.mp4'))"
   ]
  },
  {
   "cell_type": "markdown",
   "metadata": {},
   "source": [
    "***\n",
    "***\n",
    "__Question 8__ Implement the DQN training algorithm using a CNN (for example, 2 convolutional layers and one final fully connected layer)."
   ]
  },
  {
   "cell_type": "code",
   "execution_count": 79,
   "metadata": {
    "collapsed": true
   },
   "outputs": [],
   "source": [
    "class DQN_CNN(DQN):\n",
    "    def __init__(self, *args,lr=0.1,**kwargs):\n",
    "        super(DQN_CNN, self).__init__(*args,**kwargs)\n",
    "        # NN Model\n",
    "        width = 10\n",
    "        model = Sequential([\n",
    "            Conv2D(width, kernel_size = 3, padding = \"same\", activation = \"linear\"),\n",
    "            Conv2D(width, kernel_size = 3, padding = \"same\", activation = \"relu\"),\n",
    "            Conv2D(width, kernel_size = 3, padding = \"same\", activation = \"linear\"),\n",
    "            Conv2D(width, kernel_size = 3, padding = \"same\", activation = \"sigmoid\"),\n",
    "            Reshape((-1, 5*5*width)),\n",
    "            Dense(4)\n",
    "        ])\n",
    "        \n",
    "        model.compile(adam(lr=lr, decay=1e-4), \"mse\")\n",
    "        self.model = model\n",
    "        \n",
    "    def train_on_batch(self, input_states, target_q):\n",
    "        self.model.fit(input_states, target_q)"
   ]
  },
  {
   "cell_type": "code",
   "execution_count": null,
   "metadata": {
    "collapsed": true
   },
   "outputs": [
    {
     "name": "stdout",
     "output_type": "stream",
     "text": [
      "Epoch 000/051 | Loss 0.0000 | Win/lose count 9.0/6.0 (3.0)\n",
      "Epoch 001/051 | Loss 0.0044 | Win/lose count 5.5/12.0 (-6.5)\n",
      "Epoch 002/051 | Loss 0.0035 | Win/lose count 6.0/16.0 (-10.0)\n",
      "Epoch 003/051 | Loss 0.0002 | Win/lose count 12.0/20.0 (-8.0)\n",
      "Epoch 004/051 | Loss 0.0010 | Win/lose count 8.5/22.0 (-13.5)\n",
      "Epoch 005/051 | Loss 0.0035 | Win/lose count 8.5/21.0 (-12.5)\n",
      "Epoch 006/051 | Loss 0.0322 | Win/lose count 10.0/8.0 (2.0)\n",
      "Epoch 007/051 | Loss 0.0010 | Win/lose count 15.0/15.0 (0.0)\n",
      "Epoch 008/051 | Loss 0.0025 | Win/lose count 11.0/16.0 (-5.0)\n",
      "Epoch 009/051 | Loss 0.0007 | Win/lose count 7.0/11.0 (-4.0)\n",
      "Epoch 010/051 | Loss 0.0298 | Win/lose count 13.5/17.0 (-3.5)\n",
      "Epoch 011/051 | Loss 0.0300 | Win/lose count 15.5/17.0 (-1.5)\n",
      "Epoch 012/051 | Loss 0.0011 | Win/lose count 21.0/15.0 (6.0)\n",
      "Epoch 013/051 | Loss 0.0022 | Win/lose count 11.0/12.0 (-1.0)\n",
      "Epoch 014/051 | Loss 0.0619 | Win/lose count 11.0/15.0 (-4.0)\n",
      "Epoch 015/051 | Loss 0.0005 | Win/lose count 8.5/8.0 (0.5)\n",
      "Epoch 016/051 | Loss 0.0004 | Win/lose count 11.0/11.0 (0.0)\n",
      "Epoch 017/051 | Loss 0.0022 | Win/lose count 9.0/16.0 (-7.0)\n",
      "Epoch 018/051 | Loss 0.0001 | Win/lose count 5.5/15.0 (-9.5)\n",
      "Epoch 019/051 | Loss 0.0012 | Win/lose count 7.0/13.0 (-6.0)\n",
      "Epoch 020/051 | Loss 0.0312 | Win/lose count 10.5/16.0 (-5.5)\n",
      "Epoch 021/051 | Loss 0.0017 | Win/lose count 6.5/13.0 (-6.5)\n",
      "Epoch 022/051 | Loss 0.0299 | Win/lose count 14.5/15.0 (-0.5)\n",
      "Epoch 023/051 | Loss 0.0004 | Win/lose count 7.5/15.0 (-7.5)\n",
      "Epoch 024/051 | Loss 0.0319 | Win/lose count 11.0/8.0 (3.0)\n",
      "Epoch 025/051 | Loss 0.0004 | Win/lose count 11.0/19.0 (-8.0)\n"
     ]
    }
   ],
   "source": [
    "# parameters\n",
    "size = 13\n",
    "T=200\n",
    "temperature=0.1\n",
    "epochs_train=51# set small when debugging\n",
    "epochs_test=3 # set small when debugging\n",
    "\n",
    "env = Environment(grid_size=size, max_time=T, temperature=0.3)\n",
    "agent_cnn = DQN_CNN(size, lr=0.03, epsilon = 0.2, memory_size=600, batch_size = 32)\n",
    "train(agent_cnn,env,epochs_train,prefix='cnn_train')\n",
    "HTML(display_videos('cnn_train50.mp4'))"
   ]
  },
  {
   "cell_type": "markdown",
   "metadata": {},
   "source": [
    "***\n",
    "***\n",
    "__Question 9__ Test both algorithms and compare their performances. Which issue(s) do you observe? Observe also different behaviors by changing the temperature."
   ]
  },
  {
   "cell_type": "code",
   "execution_count": 69,
   "metadata": {
    "collapsed": true
   },
   "outputs": [
    {
     "name": "stdout",
     "output_type": "stream",
     "text": [
      "Test of the CNN\n",
      "Win/lose count 9.0/11.0. Average score (-2.0)\n",
      "Win/lose count 14.0/10.0. Average score (1.0)\n",
      "Win/lose count 7.5/13.0. Average score (-1.1666666666666667)\n",
      "Final score: -1.1666666666666667\n",
      "Test of the FC\n",
      "Win/lose count 10.0/20.0. Average score (-10.0)\n",
      "Win/lose count 9.5/10.0. Average score (-5.25)\n",
      "Win/lose count 6.5/13.0. Average score (-5.666666666666667)\n",
      "Final score: -5.666666666666667\n"
     ]
    }
   ],
   "source": [
    "env = Environment(grid_size=size, max_time=T,temperature=0.3)\n",
    "\n",
    "# we dont load anything, just using the models on the ram\n",
    "print('Test of the CNN')\n",
    "test(agent_cnn,env,epochs_test,prefix='cnn_test')\n",
    "print('Test of the FC')\n",
    "test(agent_fc,env,epochs_test,prefix='fc_test')"
   ]
  },
  {
   "cell_type": "code",
   "execution_count": null,
   "metadata": {
    "collapsed": true
   },
   "outputs": [],
   "source": [
    "HTML(display_videos('cnn_test10.mp4'))"
   ]
  },
  {
   "cell_type": "code",
   "execution_count": null,
   "metadata": {
    "collapsed": true
   },
   "outputs": [],
   "source": [
    "HTML(display_videos('fc_test10.mp4'))"
   ]
  },
  {
   "cell_type": "markdown",
   "metadata": {},
   "source": []
  },
  {
   "cell_type": "markdown",
   "metadata": {},
   "source": [
    "***\n",
    "\n",
    "The algorithm tends to not explore the map which can be an issue. We propose two ideas in order to encourage exploration:\n",
    "1. Incorporating a decreasing $\\epsilon$-greedy exploration. You can use the method ```set_epsilon```\n",
    "2. Append via the environment a new state that describes if a cell has been visited or not\n",
    "\n",
    "***\n",
    "__Question 10__ Design a new ```train_explore``` function and environment class ```EnvironmentExploring``` to tackle the issue of exploration.\n",
    "\n"
   ]
  },
  {
   "cell_type": "code",
   "execution_count": 72,
   "metadata": {
    "collapsed": true
   },
   "outputs": [],
   "source": [
    "def train_explore(agent,env,epoch,prefix=''):\n",
    "    \n",
    "    env.train = True \n",
    "    \n",
    "    # Number of won games\n",
    "    score = 0\n",
    "    loss = 0\n",
    "\n",
    "    for e in range(epoch):\n",
    "        # At each epoch, we restart to a fresh game and get the initial state\n",
    "        state = env.reset()\n",
    "        # This assumes that the games will terminate\n",
    "        game_over = False\n",
    "\n",
    "        win = 0\n",
    "        lose = 0\n",
    "\n",
    "        while not game_over:\n",
    "            # The agent performs an action\n",
    "            action = agent.act(state)\n",
    "\n",
    "            # Apply an action to the environment, get the next state, the reward\n",
    "            # and if the games end\n",
    "            prev_state = state\n",
    "            state, reward, game_over = env.act(action, train=True)\n",
    "\n",
    "            # Update the counters\n",
    "            if reward > 0:\n",
    "                win = win + reward\n",
    "            if reward < 0:\n",
    "                lose = lose -reward\n",
    "\n",
    "            # Apply the reinforcement strategy\n",
    "            loss = agent.reinforce(prev_state, state,  action, reward, game_over)\n",
    "            \n",
    "            # Epsilon decreasing strategy\n",
    "            agent.epsilon = 0.99*agent.epsilon\n",
    "\n",
    "        # Save as a mp4\n",
    "        if e % 10 == 0:\n",
    "            env.draw(prefix+str(e))\n",
    "\n",
    "        # Update stats\n",
    "        score += win-lose\n",
    "\n",
    "        print(\"Epoch {:03d}/{:03d} | Loss {:.4f} | Win/lose count {:.2f}/{:.2f} ({:.2f})\"\n",
    "              .format(e, epoch, loss, win, lose, win-lose))\n",
    "        agent.save(name_weights=prefix+'model.h5',name_model=prefix+'model.json')    \n",
    "        \n",
    "class EnvironmentExploring(object):\n",
    "    def __init__(self, grid_size=10, max_time=500, temperature=0.1):\n",
    "        grid_size = grid_size+4\n",
    "        self.grid_size = grid_size\n",
    "        self.max_time = max_time\n",
    "        self.temperature = temperature\n",
    "\n",
    "        #board on which one plays\n",
    "        self.board = np.zeros((grid_size,grid_size))\n",
    "        self.position = np.zeros((grid_size,grid_size))\n",
    "        self.malus_position = np.zeros((grid_size,grid_size))\n",
    "        \n",
    "        # coordinate of the cat\n",
    "        self.x = 0\n",
    "        self.y = 1\n",
    "\n",
    "        # self time\n",
    "        self.t = 0\n",
    "\n",
    "        self.scale=16\n",
    "\n",
    "        self.to_draw = np.zeros((max_time+2, grid_size*self.scale, grid_size*self.scale, 3))\n",
    "\n",
    "\n",
    "    def draw(self,e):\n",
    "        skvideo.io.vwrite(str(e) + '.mp4', self.to_draw)\n",
    "\n",
    "    def get_frame(self,t):\n",
    "        b = np.zeros((self.grid_size,self.grid_size,3))+128\n",
    "        b[self.board>0,0] = 256\n",
    "        b[self.board < 0, 2] = 256\n",
    "        b[self.x,self.y,:]=256\n",
    "        b[-2:,:,:]=0\n",
    "        b[:,-2:,:]=0\n",
    "        b[:2,:,:]=0\n",
    "        b[:,:2,:]=0\n",
    "        \n",
    "        b =  cv2.resize(b, None, fx=self.scale, fy=self.scale, interpolation=cv2.INTER_NEAREST)\n",
    "\n",
    "        self.to_draw[t,:,:,:]=b\n",
    "\n",
    "\n",
    "    def act(self, action, train = False):\n",
    "        \"\"\"This function returns the new state, reward and decides if the\n",
    "        game ends.\"\"\"\n",
    "\n",
    "        self.get_frame(int(self.t))\n",
    "\n",
    "        self.position = np.zeros((self.grid_size, self.grid_size))\n",
    "\n",
    "        self.position[0:2,:]= -1\n",
    "        self.position[:,0:2] = -1\n",
    "        self.position[-2:, :] = -1\n",
    "        self.position[-2:, :] = -1\n",
    "\n",
    "        self.position[self.x, self.y] = 1\n",
    "        if action == 0:\n",
    "            if self.x == self.grid_size-3:\n",
    "                self.x = self.x-1\n",
    "            else:\n",
    "                self.x = self.x + 1\n",
    "        elif action == 1:\n",
    "            if self.x == 2:\n",
    "                self.x = self.x+1\n",
    "            else:\n",
    "                self.x = self.x-1\n",
    "        elif action == 2:\n",
    "            if self.y == self.grid_size - 3:\n",
    "                self.y = self.y - 1\n",
    "            else:\n",
    "                self.y = self.y + 1\n",
    "        elif action == 3:\n",
    "            if self.y == 2:\n",
    "                self.y = self.y + 1\n",
    "            else:\n",
    "                self.y = self.y - 1\n",
    "        else:\n",
    "            RuntimeError('Error: action not recognized')\n",
    "\n",
    "        self.t = self.t + 1\n",
    "        reward = 0\n",
    "        reward += self.board[self.x, self.y]\n",
    "        if train:\n",
    "            reward -= self.malus_position[self.x, self.y]\n",
    "        self.malus_position[self.x, self.y] = 0.1\n",
    "        self.board[self.x, self.y] = 0\n",
    "        game_over = self.t > self.max_time\n",
    "        state = np.concatenate((self.malus_position.reshape(self.grid_size, self.grid_size,1),\n",
    "                            self.board.reshape(self.grid_size, self.grid_size,1),\n",
    "                            self.position.reshape(self.grid_size, self.grid_size,1)),axis=2)\n",
    "        state = state[self.x-2:self.x+3,self.y-2:self.y+3,:]\n",
    "\n",
    "        return state, reward, game_over\n",
    "\n",
    "    def reset(self):\n",
    "        \"\"\"This function resets the game and returns the initial state\"\"\"\n",
    "\n",
    "        self.x = np.random.randint(3, self.grid_size-3, size=1)[0]\n",
    "        self.y = np.random.randint(3, self.grid_size-3, size=1)[0]\n",
    "\n",
    "\n",
    "        bonus = 0.5*np.random.binomial(1,self.temperature,size=self.grid_size**2)\n",
    "        bonus = bonus.reshape(self.grid_size,self.grid_size)\n",
    "\n",
    "        malus = -1.0*np.random.binomial(1,self.temperature,size=self.grid_size**2)\n",
    "        malus = malus.reshape(self.grid_size, self.grid_size)\n",
    "\n",
    "        self.to_draw = np.zeros((self.max_time+2, self.grid_size*self.scale, self.grid_size*self.scale, 3))\n",
    "\n",
    "\n",
    "        malus[bonus>0]=0\n",
    "\n",
    "        self.board = bonus + malus\n",
    "        self.malus_position = np.zeros((self.grid_size,self.grid_size))\n",
    "        self.position = np.zeros((self.grid_size, self.grid_size))\n",
    "        self.position[0:2,:]= -1\n",
    "        self.position[:,0:2] = -1\n",
    "        self.position[-2:, :] = -1\n",
    "        self.position[-2:, :] = -1\n",
    "        self.board[self.x,self.y] = 0\n",
    "        self.t = 0\n",
    "\n",
    "        state = np.concatenate((self.malus_position.reshape(self.grid_size, self.grid_size,1),\n",
    "                            self.board.reshape(self.grid_size, self.grid_size,1),\n",
    "                            self.position.reshape(self.grid_size, self.grid_size,1)),axis=2)\n",
    "\n",
    "        state = state[self.x - 2:self.x + 3, self.y - 2:self.y + 3, :]\n",
    "        return state\n"
   ]
  },
  {
   "cell_type": "code",
   "execution_count": 74,
   "metadata": {
    "collapsed": true
   },
   "outputs": [
    {
     "name": "stdout",
     "output_type": "stream",
     "text": [
      "Epoch 000/051 | Loss 0.0001 | Win/lose count 9.00/23.20 (-14.20)\n",
      "Epoch 001/051 | Loss 0.0015 | Win/lose count 2.50/21.20 (-18.70)\n",
      "Epoch 002/051 | Loss 0.0008 | Win/lose count 2.00/22.10 (-20.10)\n",
      "Epoch 003/051 | Loss 0.0007 | Win/lose count 2.50/21.30 (-18.80)\n",
      "Epoch 004/051 | Loss 0.0131 | Win/lose count 1.50/18.30 (-16.80)\n",
      "Epoch 005/051 | Loss 0.0001 | Win/lose count 3.00/20.20 (-17.20)\n",
      "Epoch 006/051 | Loss 0.0008 | Win/lose count 11.00/25.60 (-14.60)\n",
      "Epoch 007/051 | Loss 0.0035 | Win/lose count 2.00/22.80 (-20.80)\n",
      "Epoch 008/051 | Loss 0.0011 | Win/lose count 4.00/20.00 (-16.00)\n",
      "Epoch 009/051 | Loss 0.0013 | Win/lose count 5.50/28.60 (-23.10)\n",
      "Epoch 010/051 | Loss 0.0019 | Win/lose count 2.00/31.70 (-29.70)\n",
      "Epoch 011/051 | Loss 0.0009 | Win/lose count 5.50/27.70 (-22.20)\n",
      "Epoch 012/051 | Loss 0.0006 | Win/lose count 7.50/30.20 (-22.70)\n",
      "Epoch 013/051 | Loss 0.0001 | Win/lose count 5.00/22.50 (-17.50)\n",
      "Epoch 014/051 | Loss 0.0005 | Win/lose count 4.00/26.30 (-22.30)\n",
      "Epoch 015/051 | Loss 0.0006 | Win/lose count 6.50/24.20 (-17.70)\n",
      "Epoch 016/051 | Loss 0.0272 | Win/lose count 5.50/22.40 (-16.90)\n",
      "Epoch 017/051 | Loss 0.0020 | Win/lose count 8.00/29.50 (-21.50)\n",
      "Epoch 018/051 | Loss 0.0024 | Win/lose count 9.50/25.70 (-16.20)\n",
      "Epoch 019/051 | Loss 0.0003 | Win/lose count 7.50/19.60 (-12.10)\n",
      "Epoch 020/051 | Loss 0.0028 | Win/lose count 6.00/26.40 (-20.40)\n",
      "Epoch 021/051 | Loss 0.0004 | Win/lose count 8.00/24.00 (-16.00)\n",
      "Epoch 022/051 | Loss 0.0004 | Win/lose count 9.00/27.20 (-18.20)\n",
      "Epoch 023/051 | Loss 0.0001 | Win/lose count 10.00/29.00 (-19.00)\n",
      "Epoch 024/051 | Loss 0.0001 | Win/lose count 3.50/23.40 (-19.90)\n",
      "Epoch 025/051 | Loss 0.0003 | Win/lose count 11.50/26.90 (-15.40)\n",
      "Epoch 026/051 | Loss 0.0302 | Win/lose count 14.00/28.90 (-14.90)\n",
      "Epoch 027/051 | Loss 0.0002 | Win/lose count 12.00/26.40 (-14.40)\n",
      "Epoch 028/051 | Loss 0.0003 | Win/lose count 8.00/29.50 (-21.50)\n",
      "Epoch 029/051 | Loss 0.0001 | Win/lose count 10.50/29.70 (-19.20)\n",
      "Epoch 030/051 | Loss 0.0000 | Win/lose count 14.50/30.90 (-16.40)\n",
      "Epoch 031/051 | Loss 0.0015 | Win/lose count 16.50/32.10 (-15.60)\n",
      "Epoch 032/051 | Loss 0.0002 | Win/lose count 12.00/30.00 (-18.00)\n",
      "Epoch 033/051 | Loss 0.0320 | Win/lose count 10.00/30.30 (-20.30)\n",
      "Epoch 034/051 | Loss 0.0000 | Win/lose count 15.00/29.90 (-14.90)\n",
      "Epoch 035/051 | Loss 0.0004 | Win/lose count 14.00/32.00 (-18.00)\n",
      "Epoch 036/051 | Loss 0.0000 | Win/lose count 10.00/26.70 (-16.70)\n",
      "Epoch 037/051 | Loss 0.0307 | Win/lose count 5.50/28.40 (-22.90)\n",
      "Epoch 038/051 | Loss 0.0311 | Win/lose count 14.50/22.00 (-7.50)\n",
      "Epoch 039/051 | Loss 0.0006 | Win/lose count 9.50/32.20 (-22.70)\n",
      "Epoch 040/051 | Loss 0.0309 | Win/lose count 11.00/35.00 (-24.00)\n",
      "Epoch 041/051 | Loss 0.0620 | Win/lose count 13.50/29.90 (-16.40)\n",
      "Epoch 042/051 | Loss 0.0003 | Win/lose count 8.00/27.90 (-19.90)\n",
      "Epoch 043/051 | Loss 0.0306 | Win/lose count 12.50/26.00 (-13.50)\n",
      "Epoch 044/051 | Loss 0.0003 | Win/lose count 16.00/28.10 (-12.10)\n",
      "Epoch 045/051 | Loss 0.0004 | Win/lose count 13.50/28.80 (-15.30)\n",
      "Epoch 046/051 | Loss 0.0005 | Win/lose count 12.50/26.80 (-14.30)\n",
      "Epoch 047/051 | Loss 0.0001 | Win/lose count 13.50/30.90 (-17.40)\n",
      "Epoch 048/051 | Loss 0.0000 | Win/lose count 18.00/27.40 (-9.40)\n",
      "Epoch 049/051 | Loss 0.0313 | Win/lose count 12.50/29.30 (-16.80)\n",
      "Epoch 050/051 | Loss 0.0001 | Win/lose count 11.50/32.30 (-20.80)\n"
     ]
    }
   ],
   "source": [
    "# Training\n",
    "epochs_train = 51\n",
    "T = 200\n",
    "\n",
    "env = EnvironmentExploring(grid_size=size, max_time=T, temperature=0.3)\n",
    "agent = DQN_CNN(size, lr=0.01, epsilon = 0.3, memory_size=2000, batch_size = 32,n_state=3)\n",
    "train_explore(agent, env, epochs_train, prefix='cnn_train_explore')"
   ]
  },
  {
   "cell_type": "code",
   "execution_count": 75,
   "metadata": {
    "collapsed": true
   },
   "outputs": [
    {
     "data": {
      "text/html": [
       "<video alt=\"test\" controls>\n",
       "                <source src=\"data:video/mp4;base64,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\" type=\"video/mp4\" />\n",
       "             </video>"
      ],
      "text/plain": [
       "<IPython.core.display.HTML object>"
      ]
     },
     "execution_count": 75,
     "metadata": {},
     "output_type": "execute_result"
    }
   ],
   "source": [
    "HTML(display_videos('cnn_train_explore50.mp4'))"
   ]
  },
  {
   "cell_type": "code",
   "execution_count": 57,
   "metadata": {
    "collapsed": true
   },
   "outputs": [
    {
     "name": "stdout",
     "output_type": "stream",
     "text": [
      "Win/lose count 0/1.0. Average score (-1.0)\n",
      "Win/lose count 1.0/1.0. Average score (-0.5)\n",
      "Win/lose count 0.5/2.0. Average score (-0.8333333333333334)\n",
      "Final score: -0.8333333333333334\n"
     ]
    },
    {
     "data": {
      "text/html": [
       "<video alt=\"test\" controls>\n",
       "                <source src=\"data:video/mp4;base64,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\" type=\"video/mp4\" />\n",
       "             </video>"
      ],
      "text/plain": [
       "<IPython.core.display.HTML object>"
      ]
     },
     "execution_count": 57,
     "metadata": {},
     "output_type": "execute_result"
    }
   ],
   "source": [
    "# Evaluation\n",
    "test(agent,env,epochs_test,prefix='cnn_test_explore')\n",
    "HTML(display_videos('cnn_test_explore0.mp4'))"
   ]
  },
  {
   "cell_type": "markdown",
   "metadata": {},
   "source": [
    "***\n",
    "***\n",
    "__BONUS question__ Use the expert DQN from the previous question to generate some winning games. Train a model that mimicks its behavior. Compare the performances."
   ]
  },
  {
   "cell_type": "markdown",
   "metadata": {},
   "source": []
  },
  {
   "cell_type": "markdown",
   "metadata": {},
   "source": [
    "***"
   ]
  }
 ],
 "metadata": {
  "kernelspec": {
   "display_name": "Python 3",
   "language": "python",
   "name": "python3"
  },
  "language_info": {
   "codemirror_mode": {
    "name": "ipython",
    "version": 3
   },
   "file_extension": ".py",
   "mimetype": "text/x-python",
   "name": "python",
   "nbconvert_exporter": "python",
   "pygments_lexer": "ipython3",
   "version": "3.6.8"
  }
 },
 "nbformat": 4,
 "nbformat_minor": 2
}
